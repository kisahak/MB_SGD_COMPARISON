{
 "cells": [
  {
   "cell_type": "markdown",
   "metadata": {},
   "source": [
    "# Programming Assignment: Numerical Optimization for Logistic Regression.\n",
    "\n",
    "### Name: Khalid Isahak\n"
   ]
  },
  {
   "cell_type": "markdown",
   "metadata": {},
   "source": [
    "## 0. You will do the following:\n",
    "\n",
    "1. Read the lecture note: [click here](https://github.com/wangshusen/DeepLearning/blob/master/LectureNotes/Logistic/paper/logistic.pdf)\n",
    "\n",
    "2. Read, complete, and run my code.\n",
    "\n",
    "3. **Implement mini-batch SGD** and evaluate the performance.\n",
    "\n",
    "4. Convert the .IPYNB file to .HTML file.\n",
    "\n",
    "    * The HTML file must contain **the code** and **the output after execution**.\n",
    "    \n",
    "    * Missing **the output after execution** will not be graded.\n",
    "    \n",
    "    \n",
    "5. Upload this .HTML file to your Google Drive, Dropbox, or your Github repo.  (If you submit the file to Google Drive or Dropbox, you must make the file \"open-access\". The delay caused by \"deny of access\" may result in late penalty.)\n",
    "\n",
    "6. On Canvas, submit the Google Drive/Dropbox/Github link to the HTML file.\n",
    "\n",
    "\n",
    "## Grading criteria:\n",
    "\n",
    "1. When computing the ```gradient``` and ```objective function value``` using a batch of samples, use **matrix-vector multiplication** rather than a FOR LOOP of **vector-vector multiplications**.\n",
    "\n",
    "2. Plot ```objective function value``` against ```epochs```. In the plot, compare GD, SGD, and MB-SGD (with $b=8$ and $b=64$). The plot must look reasonable."
   ]
  },
  {
   "cell_type": "markdown",
   "metadata": {},
   "source": [
    "# 1. Data processing\n",
    "\n",
    "- Download the Diabete dataset from https://www.csie.ntu.edu.tw/~cjlin/libsvmtools/datasets/binary/diabetes\n",
    "- Load the data using sklearn.\n",
    "- Preprocess the data."
   ]
  },
  {
   "cell_type": "markdown",
   "metadata": {},
   "source": [
    "## 1.1. Load the data"
   ]
  },
  {
   "cell_type": "code",
   "execution_count": 4,
   "metadata": {},
   "outputs": [
    {
     "name": "stdout",
     "output_type": "stream",
     "text": [
      "Shape of x: (768, 8)\n",
      "Shape of y: (768,)\n"
     ]
    }
   ],
   "source": [
    "from sklearn import datasets\n",
    "import numpy\n",
    "x_sparse, y = datasets.load_svmlight_file('./diabetes.txt')\n",
    "x = x_sparse.todense()\n",
    "\n",
    "print('Shape of x: ' + str(x.shape))\n",
    "print('Shape of y: ' + str(y.shape))"
   ]
  },
  {
   "cell_type": "markdown",
   "metadata": {},
   "source": [
    "## 1.2. Partition to training and test sets"
   ]
  },
  {
   "cell_type": "code",
   "execution_count": 5,
   "metadata": {},
   "outputs": [
    {
     "name": "stdout",
     "output_type": "stream",
     "text": [
      "Shape of x_train: (640, 8)\n",
      "Shape of x_test: (128, 8)\n",
      "Shape of y_train: (640, 1)\n",
      "Shape of y_test: (128, 1)\n"
     ]
    }
   ],
   "source": [
    "# partition the data to training and test sets\n",
    "n = x.shape[0]\n",
    "n_train = 640\n",
    "n_test = n - n_train\n",
    "\n",
    "rand_indices = numpy.random.permutation(n)\n",
    "train_indices = rand_indices[0:n_train]\n",
    "test_indices = rand_indices[n_train:n]\n",
    "\n",
    "x_train = x[train_indices, :]\n",
    "x_test = x[test_indices, :]\n",
    "y_train = y[train_indices].reshape(n_train, 1)\n",
    "y_test = y[test_indices].reshape(n_test, 1)\n",
    "\n",
    "print('Shape of x_train: ' + str(x_train.shape))\n",
    "print('Shape of x_test: ' + str(x_test.shape))\n",
    "print('Shape of y_train: ' + str(y_train.shape))\n",
    "print('Shape of y_test: ' + str(y_test.shape))"
   ]
  },
  {
   "cell_type": "markdown",
   "metadata": {},
   "source": [
    "## 1.3. Feature scaling"
   ]
  },
  {
   "cell_type": "markdown",
   "metadata": {},
   "source": [
    "Use the standardization to trainsform both training and test features"
   ]
  },
  {
   "cell_type": "code",
   "execution_count": 6,
   "metadata": {},
   "outputs": [
    {
     "name": "stdout",
     "output_type": "stream",
     "text": [
      "test mean = \n",
      "[[ 0.1041963  -0.00310124 -0.01358383 -0.00330343  0.03886493 -0.05130504\n",
      "   0.04458003 -0.0426148 ]]\n",
      "test std = \n",
      "[[1.08885293 1.03913552 0.8957774  0.94658936 0.98392944 1.07663375\n",
      "  1.05070127 0.95247081]]\n"
     ]
    }
   ],
   "source": [
    "# Standardization\n",
    "import numpy\n",
    "\n",
    "# calculate mu and sig using the training set\n",
    "d = x_train.shape[1]\n",
    "mu = numpy.mean(x_train, axis=0).reshape(1, d)\n",
    "sig = numpy.std(x_train, axis=0).reshape(1, d)\n",
    "\n",
    "# transform the training features\n",
    "x_train = (x_train - mu) / (sig + 1E-6)\n",
    "\n",
    "# transform the test features\n",
    "x_test = (x_test - mu) / (sig + 1E-6)\n",
    "\n",
    "print('test mean = ')\n",
    "print(numpy.mean(x_test, axis=0))\n",
    "\n",
    "print('test std = ')\n",
    "print(numpy.std(x_test, axis=0))"
   ]
  },
  {
   "cell_type": "markdown",
   "metadata": {},
   "source": [
    "## 1.4. Add a dimension of all ones"
   ]
  },
  {
   "cell_type": "code",
   "execution_count": 7,
   "metadata": {},
   "outputs": [
    {
     "name": "stdout",
     "output_type": "stream",
     "text": [
      "Shape of x_train: (640, 9)\n",
      "Shape of x_test: (128, 9)\n"
     ]
    }
   ],
   "source": [
    "n_train, d = x_train.shape\n",
    "x_train = numpy.concatenate((x_train, numpy.ones((n_train, 1))), axis=1)\n",
    "\n",
    "n_test, d = x_test.shape\n",
    "x_test = numpy.concatenate((x_test, numpy.ones((n_test, 1))), axis=1)\n",
    "\n",
    "print('Shape of x_train: ' + str(x_train.shape))\n",
    "print('Shape of x_test: ' + str(x_test.shape))"
   ]
  },
  {
   "cell_type": "markdown",
   "metadata": {},
   "source": [
    "# 2. Logistic regression model\n",
    "\n",
    "The objective function is $Q (w; X, y) = \\frac{1}{n} \\sum_{i=1}^n \\log \\Big( 1 + \\exp \\big( - y_i x_i^T w \\big) \\Big) + \\frac{\\lambda}{2} \\| w \\|_2^2 $."
   ]
  },
  {
   "cell_type": "code",
   "execution_count": 8,
   "metadata": {},
   "outputs": [],
   "source": [
    "# Calculate the objective function value\n",
    "# Inputs:\n",
    "#     w: d-by-1 matrix\n",
    "#     x: n-by-d matrix\n",
    "#     y: n-by-1 matrix\n",
    "#     lam: scalar, the regularization parameter\n",
    "# Return:\n",
    "#     objective function value (scalar)\n",
    "def objective(w, x, y, lam):\n",
    "    n, d = x.shape\n",
    "    yx = numpy.multiply(y, x) # n-by-d matrix\n",
    "    yxw = numpy.dot(yx, w) # n-by-1 matrix\n",
    "    vec1 = numpy.exp(-yxw) # n-by-1 matrix\n",
    "    vec2 = numpy.log(1 + vec1) # n-by-1 matrix\n",
    "    loss = numpy.mean(vec2) # scalar\n",
    "    reg = lam / 2 * numpy.sum(w * w) # scalar\n",
    "    return loss + reg\n",
    "    "
   ]
  },
  {
   "cell_type": "code",
   "execution_count": 9,
   "metadata": {},
   "outputs": [
    {
     "name": "stdout",
     "output_type": "stream",
     "text": [
      "Initial objective function value = 0.6931471805599453\n"
     ]
    }
   ],
   "source": [
    "# initialize w\n",
    "d = x_train.shape[1]\n",
    "w = numpy.zeros((d, 1))\n",
    "\n",
    "# evaluate the objective function value at w\n",
    "lam = 1E-6\n",
    "objval0 = objective(w, x_train, y_train, lam)\n",
    "print('Initial objective function value = ' + str(objval0))"
   ]
  },
  {
   "cell_type": "markdown",
   "metadata": {},
   "source": [
    "# 3. Numerical optimization"
   ]
  },
  {
   "cell_type": "markdown",
   "metadata": {},
   "source": [
    "## 3.1. Gradient descent\n"
   ]
  },
  {
   "cell_type": "markdown",
   "metadata": {},
   "source": [
    "The gradient at $w$ is $g = - \\frac{1}{n} \\sum_{i=1}^n \\frac{y_i x_i }{1 + \\exp ( y_i x_i^T w)} + \\lambda w$"
   ]
  },
  {
   "cell_type": "code",
   "execution_count": 10,
   "metadata": {},
   "outputs": [],
   "source": [
    "# Calculate the gradient\n",
    "# Inputs:\n",
    "#     w: d-by-1 matrix\n",
    "#     x: n-by-d matrix\n",
    "#     y: n-by-1 matrix\n",
    "#     lam: scalar, the regularization parameter\n",
    "# Return:\n",
    "#     g: g: d-by-1 matrix, full gradient\n",
    "def gradient(w, x, y, lam):\n",
    "    n, d = x.shape\n",
    "    yx = numpy.multiply(y, x) # n-by-d matrix\n",
    "    yxw = numpy.dot(yx, w) # n-by-1 matrix\n",
    "    vec1 = numpy.exp(yxw) # n-by-1 matrix\n",
    "    vec2 = numpy.divide(yx, 1+vec1) # n-by-d matrix\n",
    "    vec3 = -numpy.mean(vec2, axis=0).reshape(d, 1) # d-by-1 matrix\n",
    "    g = vec3 + lam * w\n",
    "    return g"
   ]
  },
  {
   "cell_type": "code",
   "execution_count": 11,
   "metadata": {},
   "outputs": [],
   "source": [
    "# Gradient descent for solving logistic regression\n",
    "# Inputs:\n",
    "#     x: n-by-d matrix\n",
    "#     y: n-by-1 matrix\n",
    "#     lam: scalar, the regularization parameter\n",
    "#     stepsize: scalar\n",
    "#     max_iter: integer, the maximal iterations\n",
    "#     w: d-by-1 matrix, initialization of w\n",
    "# Return:\n",
    "#     w: d-by-1 matrix, the solution\n",
    "#     objvals: a record of each iteration's objective value\n",
    "def grad_descent(x, y, lam, stepsize, max_iter=100, w=None):\n",
    "    n, d = x.shape\n",
    "    objvals = numpy.zeros(max_iter) # store the objective values\n",
    "    if w is None:\n",
    "        w = numpy.zeros((d, 1)) # zero initialization\n",
    "    \n",
    "    for t in range(max_iter):\n",
    "        objval = objective(w, x, y, lam)\n",
    "        objvals[t] = objval\n",
    "        print('Objective value at t=' + str(t) + ' is ' + str(objval))\n",
    "        g = gradient(w, x, y, lam)\n",
    "        w -= stepsize * g\n",
    "    \n",
    "    return w, objvals"
   ]
  },
  {
   "cell_type": "markdown",
   "metadata": {},
   "source": [
    "Run gradient descent."
   ]
  },
  {
   "cell_type": "code",
   "execution_count": 12,
   "metadata": {},
   "outputs": [
    {
     "name": "stdout",
     "output_type": "stream",
     "text": [
      "Objective value at t=0 is 0.6931471805599453\n",
      "Objective value at t=1 is 0.5973146878700077\n",
      "Objective value at t=2 is 0.5569908437038523\n",
      "Objective value at t=3 is 0.5351638747474113\n",
      "Objective value at t=4 is 0.5215622991720212\n",
      "Objective value at t=5 is 0.5123905663145242\n",
      "Objective value at t=6 is 0.5058964654976723\n",
      "Objective value at t=7 is 0.5011433951978779\n",
      "Objective value at t=8 is 0.49757929256031014\n",
      "Objective value at t=9 is 0.494856179224429\n",
      "Objective value at t=10 is 0.49274397331007014\n",
      "Objective value at t=11 is 0.49108502163726264\n",
      "Objective value at t=12 is 0.48976825024040754\n",
      "Objective value at t=13 is 0.4887136137020592\n",
      "Objective value at t=14 is 0.4878623252614898\n",
      "Objective value at t=15 is 0.48717050534147055\n",
      "Objective value at t=16 is 0.48660493614699796\n",
      "Objective value at t=17 is 0.4861401572203284\n",
      "Objective value at t=18 is 0.4857564382581906\n",
      "Objective value at t=19 is 0.4854383391571947\n",
      "Objective value at t=20 is 0.48517367104013936\n",
      "Objective value at t=21 is 0.4849527359486147\n",
      "Objective value at t=22 is 0.4847677632851058\n",
      "Objective value at t=23 is 0.48461248717875427\n",
      "Objective value at t=24 is 0.48448182612619123\n",
      "Objective value at t=25 is 0.48437163776312864\n",
      "Objective value at t=26 is 0.48427852944794036\n",
      "Objective value at t=27 is 0.4841997107380233\n",
      "Objective value at t=28 is 0.4841328776148542\n",
      "Objective value at t=29 is 0.484076120985653\n",
      "Objective value at t=30 is 0.4840278539026222\n",
      "Objective value at t=31 is 0.48398675332523566\n",
      "Objective value at t=32 is 0.4839517132632556\n",
      "Objective value at t=33 is 0.48392180688523373\n",
      "Objective value at t=34 is 0.48389625573365325\n",
      "Objective value at t=35 is 0.48387440460575953\n",
      "Objective value at t=36 is 0.4838557009755301\n",
      "Objective value at t=37 is 0.48383967807359707\n",
      "Objective value at t=38 is 0.483825940927372\n",
      "Objective value at t=39 is 0.4838141548070678\n",
      "Objective value at t=40 is 0.4838040356349595\n",
      "Objective value at t=41 is 0.4837953420026638\n",
      "Objective value at t=42 is 0.4837878685100794\n",
      "Objective value at t=43 is 0.4837814401941476\n",
      "Objective value at t=44 is 0.4837759078589783\n",
      "Objective value at t=45 is 0.48377114415358097\n",
      "Objective value at t=46 is 0.4837670402712933\n",
      "Objective value at t=47 is 0.4837635031674801\n",
      "Objective value at t=48 is 0.4837604532102673\n",
      "Objective value at t=49 is 0.4837578221938698\n",
      "Objective value at t=50 is 0.4837555516561386\n",
      "Objective value at t=51 is 0.4837535914518263\n",
      "Objective value at t=52 is 0.4837518985411826\n",
      "Objective value at t=53 is 0.4837504359601629\n",
      "Objective value at t=54 is 0.4837491719440549\n",
      "Objective value at t=55 is 0.4837480791808856\n",
      "Objective value at t=56 is 0.4837471341747667\n",
      "Objective value at t=57 is 0.4837463167024881\n",
      "Objective value at t=58 is 0.48374560934929367\n",
      "Objective value at t=59 is 0.48374499711197816\n",
      "Objective value at t=60 is 0.48374446705927415\n",
      "Objective value at t=61 is 0.4837440080410477\n",
      "Objective value at t=62 is 0.48374361043911274\n",
      "Objective value at t=63 is 0.4837432659535661\n",
      "Objective value at t=64 is 0.4837429674194638\n",
      "Objective value at t=65 is 0.4837427086494377\n",
      "Objective value at t=66 is 0.4837424842985019\n",
      "Objective value at t=67 is 0.4837422897478602\n",
      "Objective value at t=68 is 0.4837421210049893\n",
      "Objective value at t=69 is 0.4837419746176785\n",
      "Objective value at t=70 is 0.48374184760003763\n",
      "Objective value at t=71 is 0.4837417373687823\n",
      "Objective value at t=72 is 0.48374164168834155\n",
      "Objective value at t=73 is 0.4837415586235485\n",
      "Objective value at t=74 is 0.48374148649884957\n",
      "Objective value at t=75 is 0.4837414238631211\n",
      "Objective value at t=76 is 0.48374136945931046\n",
      "Objective value at t=77 is 0.4837413221982323\n",
      "Objective value at t=78 is 0.4837412811359412\n",
      "Objective value at t=79 is 0.4837412454541889\n",
      "Objective value at t=80 is 0.4837412144435384\n",
      "Objective value at t=81 is 0.4837411874887695\n",
      "Objective value at t=82 is 0.4837411640562614\n",
      "Objective value at t=83 is 0.4837411436830825\n",
      "Objective value at t=84 is 0.4837411259675512\n",
      "Objective value at t=85 is 0.4837411105610692\n",
      "Objective value at t=86 is 0.4837410971610543\n",
      "Objective value at t=87 is 0.48374108550482103\n",
      "Objective value at t=88 is 0.48374107536428235\n",
      "Objective value at t=89 is 0.48374106654136156\n",
      "Objective value at t=90 is 0.4837410588640164\n",
      "Objective value at t=91 is 0.4837410521827944\n",
      "Objective value at t=92 is 0.4837410463678477\n",
      "Objective value at t=93 is 0.4837410413063456\n",
      "Objective value at t=94 is 0.48374103690022974\n",
      "Objective value at t=95 is 0.4837410330642691\n",
      "Objective value at t=96 is 0.48374102972437216\n",
      "Objective value at t=97 is 0.48374102681612224\n",
      "Objective value at t=98 is 0.48374102428350746\n",
      "Objective value at t=99 is 0.4837410220778179\n"
     ]
    }
   ],
   "source": [
    "lam = 1E-6\n",
    "stepsize = 1.0\n",
    "w, objvals_gd = grad_descent(x_train, y_train, lam, stepsize)"
   ]
  },
  {
   "cell_type": "markdown",
   "metadata": {},
   "source": [
    "## 3.2. Stochastic gradient descent (SGD)\n",
    "\n",
    "Define $Q_i (w) = \\log \\Big( 1 + \\exp \\big( - y_i x_i^T w \\big) \\Big) + \\frac{\\lambda}{2} \\| w \\|_2^2 $.\n",
    "\n",
    "The stochastic gradient at $w$ is $g_i = \\frac{\\partial Q_i }{ \\partial w} = -\\frac{y_i x_i }{1 + \\exp ( y_i x_i^T w)} + \\lambda w$."
   ]
  },
  {
   "cell_type": "code",
   "execution_count": 13,
   "metadata": {},
   "outputs": [],
   "source": [
    "# Calculate the objective Q_i and the gradient of Q_i\n",
    "# Inputs:\n",
    "#     w: d-by-1 matrix\n",
    "#     xi: 1-by-d matrix\n",
    "#     yi: scalar\n",
    "#     lam: scalar, the regularization parameter\n",
    "# Return:\n",
    "#     obj: scalar, the objective Q_i\n",
    "#     g: d-by-1 matrix, gradient of Q_i\n",
    "def stochastic_objective_gradient(w, xi, yi, lam):\n",
    "    yx = yi * xi # 1-by-d matrix\n",
    "    yxw = float(numpy.dot(yx, w)) # scalar\n",
    "    \n",
    "    # calculate objective function Q_i\n",
    "    loss = numpy.log(1 + numpy.exp(-yxw)) # scalar\n",
    "    reg = lam / 2 * numpy.sum(w * w) # scalar\n",
    "    obj = loss + reg\n",
    "    \n",
    "    # calculate stochastic gradient\n",
    "    g_loss = -yx.T / (1 + numpy.exp(yxw)) # d-by-1 matrix\n",
    "    g = g_loss + lam * w # d-by-1 matrix\n",
    "    \n",
    "    return obj, g"
   ]
  },
  {
   "cell_type": "code",
   "execution_count": 14,
   "metadata": {},
   "outputs": [],
   "source": [
    "# SGD for solving logistic regression\n",
    "# Inputs:\n",
    "#     x: n-by-d matrix\n",
    "#     y: n-by-1 matrix\n",
    "#     lam: scalar, the regularization parameter\n",
    "#     stepsize: scalar\n",
    "#     max_epoch: integer, the maximal epochs\n",
    "#     w: d-by-1 matrix, initialization of w\n",
    "# Return:\n",
    "#     w: the solution\n",
    "#     objvals: record of each iteration's objective value\n",
    "def sgd(x, y, lam, stepsize, max_epoch=100, w=None):\n",
    "    n, d = x.shape\n",
    "    objvals = numpy.zeros(max_epoch) # store the objective values\n",
    "    if w is None:\n",
    "        w = numpy.zeros((d, 1)) # zero initialization\n",
    "    \n",
    "    for t in range(max_epoch):\n",
    "        # randomly shuffle the samples\n",
    "        rand_indices = numpy.random.permutation(n)\n",
    "        x_rand = x[rand_indices, :]\n",
    "        y_rand = y[rand_indices, :]\n",
    "        \n",
    "        objval = 0 # accumulate the objective values\n",
    "        for i in range(n):\n",
    "            xi = x_rand[i, :] # 1-by-d matrix\n",
    "            yi = float(y_rand[i, :]) # scalar\n",
    "            obj, g = stochastic_objective_gradient(w, xi, yi, lam)\n",
    "            objval += obj\n",
    "            w -= stepsize * g\n",
    "        \n",
    "        stepsize *= 0.9 # decrease step size\n",
    "        objval /= n\n",
    "        objvals[t] = objval\n",
    "        print('Objective value at epoch t=' + str(t) + ' is ' + str(objval))\n",
    "    \n",
    "    return w, objvals"
   ]
  },
  {
   "cell_type": "markdown",
   "metadata": {},
   "source": [
    "Run SGD."
   ]
  },
  {
   "cell_type": "code",
   "execution_count": 15,
   "metadata": {},
   "outputs": [
    {
     "name": "stdout",
     "output_type": "stream",
     "text": [
      "Objective value at epoch t=0 is 0.5331418662668062\n",
      "Objective value at epoch t=1 is 0.5214506467931741\n",
      "Objective value at epoch t=2 is 0.5350708557369019\n",
      "Objective value at epoch t=3 is 0.5297524745538642\n",
      "Objective value at epoch t=4 is 0.513063505151666\n",
      "Objective value at epoch t=5 is 0.5194466628798519\n",
      "Objective value at epoch t=6 is 0.5161818930249517\n",
      "Objective value at epoch t=7 is 0.5113230035809593\n",
      "Objective value at epoch t=8 is 0.512568790262442\n"
     ]
    },
    {
     "name": "stdout",
     "output_type": "stream",
     "text": [
      "Objective value at epoch t=9 is 0.5110363364413758\n",
      "Objective value at epoch t=10 is 0.5023832342074888\n",
      "Objective value at epoch t=11 is 0.5046639894001876\n",
      "Objective value at epoch t=12 is 0.49699378962584584\n",
      "Objective value at epoch t=13 is 0.5006179613908991\n",
      "Objective value at epoch t=14 is 0.49500142810306846\n",
      "Objective value at epoch t=15 is 0.4966358368496331\n",
      "Objective value at epoch t=16 is 0.4966810594683901\n",
      "Objective value at epoch t=17 is 0.4938599302392962\n",
      "Objective value at epoch t=18 is 0.49173924832733007\n",
      "Objective value at epoch t=19 is 0.49339587940888785\n",
      "Objective value at epoch t=20 is 0.49179614014013556\n",
      "Objective value at epoch t=21 is 0.4918302117441253\n",
      "Objective value at epoch t=22 is 0.4901146469426013\n",
      "Objective value at epoch t=23 is 0.48888163823892816\n",
      "Objective value at epoch t=24 is 0.4897363352863243\n",
      "Objective value at epoch t=25 is 0.4883036212413418\n",
      "Objective value at epoch t=26 is 0.4886841307413336\n",
      "Objective value at epoch t=27 is 0.4874420163309191\n",
      "Objective value at epoch t=28 is 0.48780347600136187\n",
      "Objective value at epoch t=29 is 0.4872873416405147\n",
      "Objective value at epoch t=30 is 0.4868844612504518\n",
      "Objective value at epoch t=31 is 0.4865476546117896\n",
      "Objective value at epoch t=32 is 0.4863342401555161\n",
      "Objective value at epoch t=33 is 0.4860957182664918\n",
      "Objective value at epoch t=34 is 0.48581287454661115\n",
      "Objective value at epoch t=35 is 0.4856165533084991\n",
      "Objective value at epoch t=36 is 0.4854518044141919\n",
      "Objective value at epoch t=37 is 0.485253405007066\n",
      "Objective value at epoch t=38 is 0.48513814178919723\n",
      "Objective value at epoch t=39 is 0.48499912776846354\n",
      "Objective value at epoch t=40 is 0.48487221867238117\n",
      "Objective value at epoch t=41 is 0.4847577390390721\n",
      "Objective value at epoch t=42 is 0.4846597375725793\n",
      "Objective value at epoch t=43 is 0.48457579938828\n",
      "Objective value at epoch t=44 is 0.48448857441489557\n",
      "Objective value at epoch t=45 is 0.48441852858766055\n",
      "Objective value at epoch t=46 is 0.48434529842187013\n",
      "Objective value at epoch t=47 is 0.4842896047828106\n",
      "Objective value at epoch t=48 is 0.48423502889651215\n",
      "Objective value at epoch t=49 is 0.48418556163799875\n",
      "Objective value at epoch t=50 is 0.4841342077512194\n",
      "Objective value at epoch t=51 is 0.4841014712450682\n",
      "Objective value at epoch t=52 is 0.4840639549096838\n",
      "Objective value at epoch t=53 is 0.4840325378472716\n",
      "Objective value at epoch t=54 is 0.48400414573080547\n",
      "Objective value at epoch t=55 is 0.48397835532997757\n",
      "Objective value at epoch t=56 is 0.4839539758978608\n",
      "Objective value at epoch t=57 is 0.4839328615719031\n",
      "Objective value at epoch t=58 is 0.48391366477315617\n",
      "Objective value at epoch t=59 is 0.48389651231005126\n",
      "Objective value at epoch t=60 is 0.4838811369505799\n",
      "Objective value at epoch t=61 is 0.48386726545174213\n",
      "Objective value at epoch t=62 is 0.48385468304774104\n",
      "Objective value at epoch t=63 is 0.4838433293257446\n",
      "Objective value at epoch t=64 is 0.48383313462526945\n",
      "Objective value at epoch t=65 is 0.48382395406251594\n",
      "Objective value at epoch t=66 is 0.48381575604770316\n",
      "Objective value at epoch t=67 is 0.48380829683458426\n",
      "Objective value at epoch t=68 is 0.48380159891526214\n",
      "Objective value at epoch t=69 is 0.4837955645928077\n",
      "Objective value at epoch t=70 is 0.4837900688313961\n",
      "Objective value at epoch t=71 is 0.4837852025035705\n",
      "Objective value at epoch t=72 is 0.4837808205017174\n",
      "Objective value at epoch t=73 is 0.4837768812536318\n",
      "Objective value at epoch t=74 is 0.48377330506245125\n",
      "Objective value at epoch t=75 is 0.4837701066370811\n",
      "Objective value at epoch t=76 is 0.48376721449391297\n",
      "Objective value at epoch t=77 is 0.48376461995288933\n",
      "Objective value at epoch t=78 is 0.48376228146505384\n",
      "Objective value at epoch t=79 is 0.4837601761994734\n",
      "Objective value at epoch t=80 is 0.4837582789045882\n",
      "Objective value at epoch t=81 is 0.48375657197042443\n",
      "Objective value at epoch t=82 is 0.48375504054460466\n",
      "Objective value at epoch t=83 is 0.48375365963040523\n",
      "Objective value at epoch t=84 is 0.48375241545968245\n",
      "Objective value at epoch t=85 is 0.483751296023686\n",
      "Objective value at epoch t=86 is 0.4837502882574488\n",
      "Objective value at epoch t=87 is 0.4837493816012044\n",
      "Objective value at epoch t=88 is 0.48374856506439556\n",
      "Objective value at epoch t=89 is 0.4837478298285456\n",
      "Objective value at epoch t=90 is 0.483747169411365\n",
      "Objective value at epoch t=91 is 0.48374657363319973\n",
      "Objective value at epoch t=92 is 0.48374603929157656\n",
      "Objective value at epoch t=93 is 0.4837455575821875\n",
      "Objective value at epoch t=94 is 0.48374512357324423\n",
      "Objective value at epoch t=95 is 0.4837447330394805\n",
      "Objective value at epoch t=96 is 0.48374438202874986\n",
      "Objective value at epoch t=97 is 0.4837440652609234\n",
      "Objective value at epoch t=98 is 0.48374378111531946\n",
      "Objective value at epoch t=99 is 0.4837435249500731\n"
     ]
    }
   ],
   "source": [
    "lam = 1E-6\n",
    "stepsize = 0.1\n",
    "w, objvals_sgd = sgd(x_train, y_train, lam, stepsize)"
   ]
  },
  {
   "cell_type": "markdown",
   "metadata": {},
   "source": [
    "# 4. Compare GD with SGD\n",
    "\n",
    "Plot objective function values against epochs."
   ]
  },
  {
   "cell_type": "code",
   "execution_count": 16,
   "metadata": {},
   "outputs": [
    {
     "data": {
      "image/png": "[encoded data removed]",
      "text/plain": [
       "<Figure size 432x288 with 1 Axes>"
      ]
     },
     "metadata": {
      "needs_background": "light"
     },
     "output_type": "display_data"
    }
   ],
   "source": [
    "import matplotlib.pyplot as plt\n",
    "%matplotlib inline\n",
    "\n",
    "fig = plt.figure(figsize=(6, 4))\n",
    "\n",
    "epochs_gd = range(len(objvals_gd))\n",
    "epochs_sgd = range(len(objvals_sgd))\n",
    "\n",
    "line0, = plt.plot(epochs_gd, objvals_gd, '--b', linewidth=4)\n",
    "line1, = plt.plot(epochs_sgd, objvals_sgd, '-r', linewidth=2)\n",
    "plt.xlabel('Epochs', fontsize=20)\n",
    "plt.ylabel('Objective Value', fontsize=20)\n",
    "plt.xticks(fontsize=16)\n",
    "plt.yticks(fontsize=16)\n",
    "plt.legend([line0, line1], ['GD', 'SGD'], fontsize=20)\n",
    "plt.tight_layout()\n",
    "plt.show()\n",
    "fig.savefig('compare_gd_sgd.pdf', format='pdf', dpi=1200)"
   ]
  },
  {
   "cell_type": "markdown",
   "metadata": {},
   "source": [
    "# 5. Prediction"
   ]
  },
  {
   "cell_type": "code",
   "execution_count": 17,
   "metadata": {},
   "outputs": [],
   "source": [
    "# Predict class label\n",
    "# Inputs:\n",
    "#     w: d-by-1 matrix\n",
    "#     X: m-by-d matrix\n",
    "# Return:\n",
    "#     f: m-by-1 matrix, the predictions\n",
    "def predict(w, X):\n",
    "    xw = numpy.dot(X, w)\n",
    "    f = numpy.sign(xw)\n",
    "    return f"
   ]
  },
  {
   "cell_type": "code",
   "execution_count": 18,
   "metadata": {},
   "outputs": [
    {
     "name": "stdout",
     "output_type": "stream",
     "text": [
      "Training classification error is 0.2265625\n"
     ]
    }
   ],
   "source": [
    "# evaluate training error\n",
    "f_train = predict(w, x_train)\n",
    "diff = numpy.abs(f_train - y_train) / 2\n",
    "error_train = numpy.mean(diff)\n",
    "print('Training classification error is ' + str(error_train))"
   ]
  },
  {
   "cell_type": "code",
   "execution_count": 19,
   "metadata": {},
   "outputs": [
    {
     "name": "stdout",
     "output_type": "stream",
     "text": [
      "Test classification error is 0.1796875\n"
     ]
    }
   ],
   "source": [
    "# evaluate test error\n",
    "f_test = predict(w, x_test)\n",
    "diff = numpy.abs(f_test - y_test) / 2\n",
    "error_test = numpy.mean(diff)\n",
    "print('Test classification error is ' + str(error_test))"
   ]
  },
  {
   "cell_type": "markdown",
   "metadata": {},
   "source": [
    "# 6. Mini-batch SGD (fill the code)\n",
    "\n"
   ]
  },
  {
   "cell_type": "markdown",
   "metadata": {},
   "source": [
    "## 6.1. Compute the objective $Q_I$ and its gradient using a batch of samples\n",
    "\n",
    "Define $Q_I (w) = \\frac{1}{b} \\sum_{i \\in I} \\log \\Big( 1 + \\exp \\big( - y_i x_i^T w \\big) \\Big) + \\frac{\\lambda}{2} \\| w \\|_2^2 $, where $I$ is a set containing $b$ indices randomly drawn from $\\{ 1, \\cdots , n \\}$ without replacement.\n",
    "\n",
    "The stochastic gradient at $w$ is $g_I = \\frac{\\partial Q_I }{ \\partial w} = \\frac{1}{b} \\sum_{i \\in I} \\frac{- y_i x_i }{1 + \\exp ( y_i x_i^T w)} + \\lambda w$."
   ]
  },
  {
   "cell_type": "code",
   "execution_count": 110,
   "metadata": {},
   "outputs": [],
   "source": [
    "# Calculate the objective Q_I and the gradient of Q_I\n",
    "# Inputs:\n",
    "#     w: d-by-1 matrix\n",
    "#     xi: b-by-d matrix\n",
    "#     yi: b-by-1 matrix\n",
    "#     lam: scalar, the regularization parameter\n",
    "#     b: integer, the batch size\n",
    "# Return:\n",
    "#     obj: scalar, the objective Q_i\n",
    "#     g: d-by-1 matrix, gradient of Q_i\n",
    "import numpy as np\n",
    "def mb_stochastic_objective_gradient(w, xi, yi, lam, b):\n",
    "    # Fill the function\n",
    "    # Follow the implementation of stochastic_objective_gradient\n",
    "    # Use matrix-vector multiplication; do not use FOR LOOP of vector-vector multiplications\n",
    "\n",
    "    # Ensure xi and yi are numpy arrays for matrix operations\n",
    "    xi = np.asarray(xi)\n",
    "    yi = np.asarray(yi)\n",
    "    \n",
    "    xi_transposed = xi.T  # Transpose xi to make it a 1xb matrix\n",
    "    \n",
    "    yx = (np.dot(xi_transposed, yi)).T\n",
    "    yxw = np.dot(yx, w)  # Matrix-vector multiplication\n",
    "\n",
    "    \n",
    "    loss = np.mean(np.log(1 + np.exp(-yxw)))  \n",
    "\n",
    "    reg = (lam / 2) * np.sum(w**2)  # Scalar\n",
    "\n",
    "    obj = loss + reg  # Scalar\n",
    "\n",
    "    g_loss = -np.dot(yx.T, 1 / (1 + np.exp(yxw))) / b  # Matrix-vector multiplication, result is (d, 1)\n",
    "\n",
    "    # Calculate the total gradient for the batch, including the regularization gradient\n",
    "    g = g_loss + lam * w  # (d, 1)\n",
    "\n",
    "    return obj, g"
   ]
  },
  {
   "cell_type": "markdown",
   "metadata": {},
   "source": [
    "## 6.2. Implement mini-batch SGD\n",
    "\n",
    "Hints:\n",
    "1. In every epoch, randomly permute the $n$ samples (just like SGD).\n",
    "2. Each epoch has $\\frac{n}{b}$ iterations. In every iteration, use $b$ samples, and compute the gradient and objective using the ``mb_stochastic_objective_gradient`` function. In the next iteration, use the next $b$ samples, and so on.\n"
   ]
  },
  {
   "cell_type": "code",
   "execution_count": 106,
   "metadata": {},
   "outputs": [],
   "source": [
    "\n",
    "def mb_sgd(x, y, lam, b, stepsize, max_epoch=100, w=None):\n",
    "    # Fill the function\n",
    "    # Follow the implementation of sgd\n",
    "    # Record one objective value per epoch (not per iteration!)\n",
    "    # SGD for solving logistic regression\n",
    "# Inputs:\n",
    "#     x: n-by-d matrix\n",
    "#     y: n-by-1 matrix\n",
    "#     lam: scalar, the regularization parameter\n",
    "#     stepsize: scalar\n",
    "#     max_epoch: integer, the maximal epochs\n",
    "#     w: d-by-1 matrix, initialization of w\n",
    "# Return:\n",
    "#     w: the solution\n",
    "#     objvals: record of each iteration's objective value\n",
    "    n, d = x.shape\n",
    "    objvals = np.zeros(max_epoch)  # Store the objective values for each epoch\n",
    "\n",
    "    if w is None:\n",
    "        w = np.zeros((d, 1))  # Zero initialization for weights\n",
    "\n",
    "    for epoch in range(max_epoch):\n",
    "        # Randomly shuffle the samples at the beginning of each epoch\n",
    "        rand_indices = np.random.permutation(n)\n",
    "        x_rand = x[rand_indices, :]\n",
    "        y_rand = y[rand_indices, :]\n",
    "\n",
    "        objval_epoch = 0 \n",
    "\n",
    "        # Iterate over mini-batches\n",
    "        for i in range(0, n, b):\n",
    "            xi = x_rand[i:i+b, :] \n",
    "            yi = y_rand[i:i+b,:]  \n",
    "            \n",
    "            obj, g = mb_stochastic_objective_gradient(w, xi, yi, lam, b)\n",
    "\n",
    "            objval_epoch += obj * min(b, n-i)\n",
    "\n",
    "            # Update the weights\n",
    "            w -= stepsize * g\n",
    "\n",
    "        stepsize *= 0.9  # Decrease step size\n",
    "\n",
    "\n",
    "        objvals[epoch] = objval_epoch / n\n",
    "        print('Objective value at epoch {} is {}'.format(epoch, objvals[epoch]))\n",
    "\n",
    "    return w, objvals"
   ]
  },
  {
   "cell_type": "markdown",
   "metadata": {},
   "source": []
  },
  {
   "cell_type": "markdown",
   "metadata": {},
   "source": [
    "## 6.3. Run MB-SGD"
   ]
  },
  {
   "cell_type": "code",
   "execution_count": 159,
   "metadata": {},
   "outputs": [
    {
     "name": "stdout",
     "output_type": "stream",
     "text": [
      "Objective value at epoch 0 is 0.679183402941017\n",
      "Objective value at epoch 1 is 0.652766653059597\n",
      "Objective value at epoch 2 is 0.6307057476487848\n",
      "Objective value at epoch 3 is 0.6121896297749501\n",
      "Objective value at epoch 4 is 0.5966026308602235\n",
      "Objective value at epoch 5 is 0.5822708039243606\n",
      "Objective value at epoch 6 is 0.5711338533914858\n",
      "Objective value at epoch 7 is 0.5598500700052818\n",
      "Objective value at epoch 8 is 0.5523524435794048\n",
      "Objective value at epoch 9 is 0.5446367870967637\n",
      "Objective value at epoch 10 is 0.5387143516075129\n",
      "Objective value at epoch 11 is 0.5312008776481365\n",
      "Objective value at epoch 12 is 0.5256756943310104\n",
      "Objective value at epoch 13 is 0.5217036050484537\n",
      "Objective value at epoch 14 is 0.518212899829477\n",
      "Objective value at epoch 15 is 0.5133575283295999\n",
      "Objective value at epoch 16 is 0.5114864855224953\n",
      "Objective value at epoch 17 is 0.5067584176162663\n",
      "Objective value at epoch 18 is 0.5051362806729325\n",
      "Objective value at epoch 19 is 0.5032763892315398\n",
      "Objective value at epoch 20 is 0.5017607727312777\n",
      "Objective value at epoch 21 is 0.49845439409058123\n",
      "Objective value at epoch 22 is 0.5001216475857919\n",
      "Objective value at epoch 23 is 0.4982579632414789\n"
     ]
    },
    {
     "name": "stdout",
     "output_type": "stream",
     "text": [
      "Objective value at epoch 24 is 0.4955113230600016\n",
      "Objective value at epoch 25 is 0.4938145386034133\n",
      "Objective value at epoch 26 is 0.49418058291594474\n",
      "Objective value at epoch 27 is 0.4919840588831339\n",
      "Objective value at epoch 28 is 0.4918526179728526\n",
      "Objective value at epoch 29 is 0.4915139841376934\n",
      "Objective value at epoch 30 is 0.49177759437397467\n",
      "Objective value at epoch 31 is 0.4894468584995022\n",
      "Objective value at epoch 32 is 0.4890751990366605\n",
      "Objective value at epoch 33 is 0.4892007444402891\n",
      "Objective value at epoch 34 is 0.4878124877326857\n",
      "Objective value at epoch 35 is 0.48583060996167066\n",
      "Objective value at epoch 36 is 0.4862645481949257\n",
      "Objective value at epoch 37 is 0.4877280153985753\n",
      "Objective value at epoch 38 is 0.4849468840954878\n",
      "Objective value at epoch 39 is 0.4859680277332871\n",
      "Objective value at epoch 40 is 0.4854012182644872\n",
      "Objective value at epoch 41 is 0.48641370769690584\n",
      "Objective value at epoch 42 is 0.48665955734703825\n",
      "Objective value at epoch 43 is 0.48393302912180347\n",
      "Objective value at epoch 44 is 0.4852359836795802\n",
      "Objective value at epoch 45 is 0.48654766416411566\n",
      "Objective value at epoch 46 is 0.4854838227188977\n",
      "Objective value at epoch 47 is 0.4844608425875906\n",
      "Objective value at epoch 48 is 0.48469175401995024\n",
      "Objective value at epoch 49 is 0.4833607008661115\n",
      "Objective value at epoch 50 is 0.4846061884424451\n",
      "Objective value at epoch 51 is 0.4852819482205092\n",
      "Objective value at epoch 52 is 0.4843435191265165\n",
      "Objective value at epoch 53 is 0.48317490876147096\n",
      "Objective value at epoch 54 is 0.48516158485017824\n",
      "Objective value at epoch 55 is 0.4845357591093715\n",
      "Objective value at epoch 56 is 0.4858681844837068\n",
      "Objective value at epoch 57 is 0.48575550671433154\n",
      "Objective value at epoch 58 is 0.4851113394719818\n",
      "Objective value at epoch 59 is 0.48413960667535016\n",
      "Objective value at epoch 60 is 0.4828153776130584\n",
      "Objective value at epoch 61 is 0.4840994756621388\n",
      "Objective value at epoch 62 is 0.484482507201344\n",
      "Objective value at epoch 63 is 0.4843442894134977\n",
      "Objective value at epoch 64 is 0.4850646199211089\n",
      "Objective value at epoch 65 is 0.4841404001737546\n",
      "Objective value at epoch 66 is 0.4832446188061799\n",
      "Objective value at epoch 67 is 0.482793751408905\n",
      "Objective value at epoch 68 is 0.48522496431526\n",
      "Objective value at epoch 69 is 0.48551176824037584\n",
      "Objective value at epoch 70 is 0.48254289036829545\n",
      "Objective value at epoch 71 is 0.485371264219272\n",
      "Objective value at epoch 72 is 0.4849704531880635\n",
      "Objective value at epoch 73 is 0.48270981121180007\n",
      "Objective value at epoch 74 is 0.48452494982236666\n",
      "Objective value at epoch 75 is 0.48448115140881187\n",
      "Objective value at epoch 76 is 0.4846275756618933\n",
      "Objective value at epoch 77 is 0.48539304829464447\n",
      "Objective value at epoch 78 is 0.48240129914403357\n",
      "Objective value at epoch 79 is 0.4828483127132621\n",
      "Objective value at epoch 80 is 0.4823854101927269\n",
      "Objective value at epoch 81 is 0.482261925353541\n",
      "Objective value at epoch 82 is 0.4836404983366\n",
      "Objective value at epoch 83 is 0.4860594720956216\n",
      "Objective value at epoch 84 is 0.4832220432034819\n",
      "Objective value at epoch 85 is 0.4835623042425972\n",
      "Objective value at epoch 86 is 0.4843587911411598\n",
      "Objective value at epoch 87 is 0.4839860526990417\n",
      "Objective value at epoch 88 is 0.48487890526689803\n",
      "Objective value at epoch 89 is 0.48470023688590363\n",
      "Objective value at epoch 90 is 0.48417876352519984\n",
      "Objective value at epoch 91 is 0.48485983771798474\n",
      "Objective value at epoch 92 is 0.4825066098328524\n",
      "Objective value at epoch 93 is 0.4824193822595427\n",
      "Objective value at epoch 94 is 0.4823207698446028\n",
      "Objective value at epoch 95 is 0.48412739566030155\n",
      "Objective value at epoch 96 is 0.4851397105120984\n",
      "Objective value at epoch 97 is 0.4841715918795949\n",
      "Objective value at epoch 98 is 0.4850916997764007\n",
      "Objective value at epoch 99 is 0.48240335290470426\n"
     ]
    }
   ],
   "source": [
    "# MB-SGD with batch size b=8\n",
    "lam = 1E-6 # do not change\n",
    "b = 8 # do not change\n",
    "stepsize = .00039 # you must tune this parameter\n",
    "\n",
    "w, objvals_mbsgd8 = mb_sgd(x_train, y_train, lam, b, stepsize)"
   ]
  },
  {
   "cell_type": "code",
   "execution_count": 157,
   "metadata": {},
   "outputs": [
    {
     "name": "stdout",
     "output_type": "stream",
     "text": [
      "Objective value at epoch 0 is 0.6813322436326286\n",
      "Objective value at epoch 1 is 0.6563975149489087\n",
      "Objective value at epoch 2 is 0.6350622338619714\n",
      "Objective value at epoch 3 is 0.6167729901366856\n",
      "Objective value at epoch 4 is 0.6008381790095834\n",
      "Objective value at epoch 5 is 0.5872300451322536\n",
      "Objective value at epoch 6 is 0.5750909963583514\n",
      "Objective value at epoch 7 is 0.5647377618180477\n",
      "Objective value at epoch 8 is 0.5555055890922332\n",
      "Objective value at epoch 9 is 0.5473511552868545\n",
      "Objective value at epoch 10 is 0.5407021605066958\n",
      "Objective value at epoch 11 is 0.5344068416177624\n",
      "Objective value at epoch 12 is 0.5287282395798989\n",
      "Objective value at epoch 13 is 0.5238759300087178\n",
      "Objective value at epoch 14 is 0.5197508832351446\n",
      "Objective value at epoch 15 is 0.5163725200914814\n",
      "Objective value at epoch 16 is 0.511902640174434\n",
      "Objective value at epoch 17 is 0.5091351334320289\n",
      "Objective value at epoch 18 is 0.5063387285184546\n",
      "Objective value at epoch 19 is 0.5040011547683217\n",
      "Objective value at epoch 20 is 0.5021755593831374\n",
      "Objective value at epoch 21 is 0.5001261921182952\n",
      "Objective value at epoch 22 is 0.4980317992016195\n",
      "Objective value at epoch 23 is 0.49793312280967256\n",
      "Objective value at epoch 24 is 0.4957349171533414\n",
      "Objective value at epoch 25 is 0.49348999248421405\n",
      "Objective value at epoch 26 is 0.4927658792402572\n",
      "Objective value at epoch 27 is 0.49165897750439297\n",
      "Objective value at epoch 28 is 0.49078898681010485\n",
      "Objective value at epoch 29 is 0.4899522713207502\n",
      "Objective value at epoch 30 is 0.48904639512886333\n",
      "Objective value at epoch 31 is 0.4893514647837506\n",
      "Objective value at epoch 32 is 0.48842670132864685\n",
      "Objective value at epoch 33 is 0.4882962454526426\n",
      "Objective value at epoch 34 is 0.4867305320910698\n",
      "Objective value at epoch 35 is 0.4868098529632904\n",
      "Objective value at epoch 36 is 0.48607101691248544\n",
      "Objective value at epoch 37 is 0.4859087792286907\n",
      "Objective value at epoch 38 is 0.48658041741666685\n",
      "Objective value at epoch 39 is 0.4850035666198157\n",
      "Objective value at epoch 40 is 0.4857622819951842\n",
      "Objective value at epoch 41 is 0.48440562488158667\n",
      "Objective value at epoch 42 is 0.4852795715898905\n",
      "Objective value at epoch 43 is 0.4845460691992748\n",
      "Objective value at epoch 44 is 0.4851665600367513\n",
      "Objective value at epoch 45 is 0.48424582791319315\n",
      "Objective value at epoch 46 is 0.484386003994598\n",
      "Objective value at epoch 47 is 0.4840617264907448\n",
      "Objective value at epoch 48 is 0.4836346057646151\n",
      "Objective value at epoch 49 is 0.4840725287298923\n",
      "Objective value at epoch 50 is 0.48375983570592374\n",
      "Objective value at epoch 51 is 0.48332839647053827\n",
      "Objective value at epoch 52 is 0.48399109080503466\n",
      "Objective value at epoch 53 is 0.48318071618072905\n",
      "Objective value at epoch 54 is 0.4831990807812797\n",
      "Objective value at epoch 55 is 0.48408790572237576\n",
      "Objective value at epoch 56 is 0.4834876690778665\n",
      "Objective value at epoch 57 is 0.4837517563021894\n",
      "Objective value at epoch 58 is 0.48352972124434784\n",
      "Objective value at epoch 59 is 0.48465099245720805\n",
      "Objective value at epoch 60 is 0.48279093349901664\n",
      "Objective value at epoch 61 is 0.4835500477557882\n",
      "Objective value at epoch 62 is 0.4827867191343551\n",
      "Objective value at epoch 63 is 0.48319992279261453\n",
      "Objective value at epoch 64 is 0.48328608076824153\n",
      "Objective value at epoch 65 is 0.4829814625294304\n",
      "Objective value at epoch 66 is 0.4828156327989599\n",
      "Objective value at epoch 67 is 0.4827101793216415\n",
      "Objective value at epoch 68 is 0.48332326424446004\n",
      "Objective value at epoch 69 is 0.48357502805140606\n",
      "Objective value at epoch 70 is 0.48303108048854365\n",
      "Objective value at epoch 71 is 0.48317689615603704\n",
      "Objective value at epoch 72 is 0.482871028866026\n",
      "Objective value at epoch 73 is 0.4832498252182419\n",
      "Objective value at epoch 74 is 0.48242660345641264\n",
      "Objective value at epoch 75 is 0.48367497231040774\n",
      "Objective value at epoch 76 is 0.48303610190605306\n",
      "Objective value at epoch 77 is 0.4828840501059661\n",
      "Objective value at epoch 78 is 0.4829162456428917\n",
      "Objective value at epoch 79 is 0.48416457569032245\n",
      "Objective value at epoch 80 is 0.4831014982582458\n",
      "Objective value at epoch 81 is 0.4832624541906734\n",
      "Objective value at epoch 82 is 0.4833110561170642\n",
      "Objective value at epoch 83 is 0.4825367267600427\n",
      "Objective value at epoch 84 is 0.4836347723926743\n",
      "Objective value at epoch 85 is 0.4832054192772491\n",
      "Objective value at epoch 86 is 0.483205468389918\n",
      "Objective value at epoch 87 is 0.48284775251381307\n",
      "Objective value at epoch 88 is 0.484538367665143\n",
      "Objective value at epoch 89 is 0.4826271747731935\n",
      "Objective value at epoch 90 is 0.48235098908071583\n",
      "Objective value at epoch 91 is 0.4825353875007824\n",
      "Objective value at epoch 92 is 0.4828722304014459\n",
      "Objective value at epoch 93 is 0.4831927514752759\n",
      "Objective value at epoch 94 is 0.4828390668769361\n",
      "Objective value at epoch 95 is 0.4831006194728752\n",
      "Objective value at epoch 96 is 0.4827284287315715\n",
      "Objective value at epoch 97 is 0.4832893058467197\n",
      "Objective value at epoch 98 is 0.48296295275936973\n",
      "Objective value at epoch 99 is 0.48321169722683466\n"
     ]
    }
   ],
   "source": [
    "# MB-SGD with batch size b=64\n",
    "lam = 1E-6 # do not change\n",
    "b = 64 # do not change\n",
    "stepsize = 0.00036 # you must tune this parameter\n",
    "\n",
    "w, objvals_mbsgd64 = mb_sgd(x_train, y_train, lam, b, stepsize)"
   ]
  },
  {
   "cell_type": "markdown",
   "metadata": {},
   "source": [
    "# 7. Plot and compare GD, SGD, and MB-SGD"
   ]
  },
  {
   "cell_type": "markdown",
   "metadata": {},
   "source": [
    "You are required to compare the following algorithms:\n",
    "\n",
    "- Gradient descent (GD)\n",
    "\n",
    "- SGD\n",
    "\n",
    "- MB-SGD with b=8\n",
    "\n",
    "- MB-SGD with b=64\n",
    "\n",
    "Follow the code in Section 4 to plot ```objective function value``` against ```epochs```. There should be four curves in the plot; each curve corresponds to one algorithm."
   ]
  },
  {
   "cell_type": "markdown",
   "metadata": {},
   "source": [
    "Hint: Logistic regression with $\\ell_2$-norm regularization is a strongly convex optimization problem. All the algorithms will converge to the same solution. **In the end, the ``objective function value`` of the 4 algorithms will be the same. If not the same, your implementation must be wrong. Do NOT submit wrong code and wrong result!**"
   ]
  },
  {
   "cell_type": "code",
   "execution_count": 160,
   "metadata": {},
   "outputs": [
    {
     "data": {
      "image/png": "[encoded data removed]",
      "text/plain": [
       "<Figure size 720x432 with 1 Axes>"
      ]
     },
     "metadata": {
      "needs_background": "light"
     },
     "output_type": "display_data"
    }
   ],
   "source": [
    "# plot the 4 curves:\n",
    "import matplotlib.pyplot as plt\n",
    "\n",
    "\n",
    "\n",
    "fig = plt.figure(figsize=(10, 6))\n",
    "\n",
    "# Epochs for each algorithm\n",
    "epochs_gd = range(len(objvals_gd))\n",
    "epochs_sgd = range(len(objvals_sgd))\n",
    "epochs_mbsgd8 = range(len(objvals_mbsgd8))\n",
    "epochs_mbsgd64 = range(len(objvals_mbsgd64))\n",
    "\n",
    "# Plotting\n",
    "line0, = plt.plot(epochs_gd, objvals_gd, '--b', linewidth=2, label='GD')\n",
    "line1, = plt.plot(epochs_sgd, objvals_sgd, '-r', linewidth=2, label='SGD')\n",
    "line2, = plt.plot(epochs_mbsgd8, objvals_mbsgd8, '-g', linewidth=2, label='MB-SGD b=8')\n",
    "line3, = plt.plot(epochs_mbsgd64, objvals_mbsgd64, '-m', linewidth=2, label='MB-SGD b=64')\n",
    "\n",
    "# Labeling\n",
    "plt.xlabel('Epochs', fontsize=16)\n",
    "plt.ylabel('Objective Value', fontsize=16)\n",
    "plt.xticks(fontsize=14)\n",
    "plt.yticks(fontsize=14)\n",
    "plt.legend(fontsize=16)\n",
    "plt.title('Comparison of GD, SGD, and MB-SGD', fontsize=18)\n",
    "plt.tight_layout()\n",
    "\n",
    "plt.show()\n",
    "\n"
   ]
  },
  {
   "cell_type": "markdown",
   "metadata": {},
   "source": []
  }
 ],
 "metadata": {
  "kernelspec": {
   "display_name": "Python 3",
   "language": "python",
   "name": "python3"
  },
  "language_info": {
   "codemirror_mode": {
    "name": "ipython",
    "version": 3
   },
   "file_extension": ".py",
   "mimetype": "text/x-python",
   "name": "python",
   "nbconvert_exporter": "python",
   "pygments_lexer": "ipython3",
   "version": "3.8.8"
  }
 },
 "nbformat": 4,
 "nbformat_minor": 2
}
